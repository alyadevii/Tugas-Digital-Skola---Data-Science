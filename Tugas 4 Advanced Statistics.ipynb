{
  "nbformat": 4,
  "nbformat_minor": 0,
  "metadata": {
    "colab": {
      "provenance": [],
      "authorship_tag": "ABX9TyPaRdL4T7tna0TsD4l0lWAI",
      "include_colab_link": true
    },
    "kernelspec": {
      "name": "python3",
      "display_name": "Python 3"
    },
    "language_info": {
      "name": "python"
    }
  },
  "cells": [
    {
      "cell_type": "markdown",
      "metadata": {
        "id": "view-in-github",
        "colab_type": "text"
      },
      "source": [
        "<a href=\"https://colab.research.google.com/github/alyadevii/Tugas-Digital-Skola---Data-Science/blob/main/Tugas%204%20Advanced%20Statistics.ipynb\" target=\"_parent\"><img src=\"https://colab.research.google.com/assets/colab-badge.svg\" alt=\"Open In Colab\"/></a>"
      ]
    },
    {
      "cell_type": "markdown",
      "source": [
        "soal 1. menentukan nilai terbesar"
      ],
      "metadata": {
        "id": "le4rkyXcJJp8"
      }
    },
    {
      "cell_type": "code",
      "execution_count": null,
      "metadata": {
        "colab": {
          "base_uri": "https://localhost:8080/"
        },
        "id": "ZUUqkOfjJEJJ",
        "outputId": "02634fb5-e9d5-4ae9-dbc1-3b52e98b431f"
      },
      "outputs": [
        {
          "output_type": "stream",
          "name": "stdout",
          "text": [
            "nilai terbesarnya: 33\n"
          ]
        }
      ],
      "source": [
        "def nilai_terbesar(a,b,c):\n",
        "  if a>=b and a>=c:\n",
        "    return a\n",
        "  elif b>=a and b>=c:\n",
        "    return b\n",
        "  else:\n",
        "    return c\n",
        "\n",
        "print (\"nilai terbesarnya:\", nilai_terbesar(33,25,14))"
      ]
    },
    {
      "cell_type": "markdown",
      "source": [
        "soal 2. menghitung rata-rata"
      ],
      "metadata": {
        "id": "vu2NmLHBMFSc"
      }
    },
    {
      "cell_type": "code",
      "source": [
        "def rata_rata (a,b,c,d,e):\n",
        "  return (a+b+c+d+e)/5\n",
        "\n",
        "print(\"nilai rata-ratanya adalah:\", rata_rata(10,20,30,40,50))\n"
      ],
      "metadata": {
        "colab": {
          "base_uri": "https://localhost:8080/"
        },
        "id": "SHxFh03YWumM",
        "outputId": "e1ecfc4d-5654-4042-bcaf-60366dc5c672"
      },
      "execution_count": null,
      "outputs": [
        {
          "output_type": "stream",
          "name": "stdout",
          "text": [
            "nilai rata-ratanya adalah: 30.0\n"
          ]
        }
      ]
    },
    {
      "cell_type": "markdown",
      "source": [
        "soal 3. mnghitung jumlah bilangan genap dan ganjil"
      ],
      "metadata": {
        "id": "vPY4rfTKg-qI"
      }
    },
    {
      "cell_type": "code",
      "source": [
        "def hitung_genap_ganjil(daftar_angka):\n",
        "    jumlah_genap = 0\n",
        "    jumlah_ganjil = 0\n",
        "    for angka in daftar_angka:\n",
        "        if angka % 2 == 0:\n",
        "            jumlah_genap += 1\n",
        "        else:\n",
        "            jumlah_ganjil += 1\n",
        "    return jumlah_genap, jumlah_ganjil\n",
        "\n",
        "angka = [1, 2, 3, 4, 5, 6, 7, 8, 9, 10, 11]\n",
        "genap, ganjil = hitung_genap_ganjil(angka)\n",
        "print(f\"Jumlah bilangan genap: {genap}\")\n",
        "print(f\"Jumlah bilangan ganjil: {ganjil}\")"
      ],
      "metadata": {
        "colab": {
          "base_uri": "https://localhost:8080/"
        },
        "id": "nhrJSAXLjnlX",
        "outputId": "78a3d98f-ad5e-4d94-91ae-6773d391d7bb"
      },
      "execution_count": null,
      "outputs": [
        {
          "output_type": "stream",
          "name": "stdout",
          "text": [
            "Jumlah bilangan genap: 5\n",
            "Jumlah bilangan ganjil: 6\n"
          ]
        }
      ]
    },
    {
      "cell_type": "markdown",
      "source": [
        "soal 4. mengurutkan huruf kecil dan kapital"
      ],
      "metadata": {
        "id": "GUNd9-LRm8yz"
      }
    },
    {
      "cell_type": "code",
      "source": [
        "def urutkan_huruf(s):\n",
        "  kecil = ''\n",
        "  kapital = ''\n",
        "  for x in s:\n",
        "    if x.islower():\n",
        "      kecil += x\n",
        "    else:\n",
        "      kapital += x\n",
        "  return kecil + kapital\n",
        "\n",
        "print(urutkan_huruf(\"DigitaLSkolA\"))"
      ],
      "metadata": {
        "colab": {
          "base_uri": "https://localhost:8080/"
        },
        "id": "EKJUEA-zm-9s",
        "outputId": "18cf3f6f-faf7-45e4-f178-b12e6d8f518b"
      },
      "execution_count": null,
      "outputs": [
        {
          "output_type": "stream",
          "name": "stdout",
          "text": [
            "igitakolDLSA\n"
          ]
        }
      ]
    },
    {
      "cell_type": "markdown",
      "source": [
        "soal 5. menghitung jumlah karakter"
      ],
      "metadata": {
        "id": "ZekLDQQKQcdI"
      }
    },
    {
      "cell_type": "code",
      "source": [
        "def hitung_karakter(teks):\n",
        "  hasil = {}\n",
        "  for x in teks:\n",
        "    if x in hasil :\n",
        "      hasil[x] +=1\n",
        "    else:\n",
        "      hasil[x] = 1\n",
        "  return hasil\n",
        "\n",
        "print(hitung_karakter(\"data science\"))"
      ],
      "metadata": {
        "colab": {
          "base_uri": "https://localhost:8080/"
        },
        "id": "h12GIV_YUPZR",
        "outputId": "95f2938f-2f10-4474-bd95-2ce4fc1c928f"
      },
      "execution_count": null,
      "outputs": [
        {
          "output_type": "stream",
          "name": "stdout",
          "text": [
            "{'d': 1, 'a': 2, 't': 1, ' ': 1, 's': 1, 'c': 2, 'i': 1, 'e': 2, 'n': 1}\n"
          ]
        }
      ]
    },
    {
      "cell_type": "markdown",
      "source": [
        "soal 6."
      ],
      "metadata": {
        "id": "7EsC7dUvpd4O"
      }
    },
    {
      "cell_type": "code",
      "source": [
        "def show_employee(nama, gaji=2000000):\n",
        "    print(\"pekerja atas nama\", nama, \"penghasilannya adalah Rp\", gaji, \"perbulan\")\n",
        "\n"
      ],
      "metadata": {
        "id": "kA0FsIvApgJv"
      },
      "execution_count": null,
      "outputs": []
    },
    {
      "cell_type": "code",
      "source": [
        "show_employee (\"annisa\")"
      ],
      "metadata": {
        "colab": {
          "base_uri": "https://localhost:8080/"
        },
        "id": "scWsdLcQrHKP",
        "outputId": "5f0d6939-b872-49b5-b537-6e68adee6984"
      },
      "execution_count": null,
      "outputs": [
        {
          "output_type": "stream",
          "name": "stdout",
          "text": [
            "pekerja atas nama annisa penghasilannya adalah Rp 2000000 perbulan\n"
          ]
        }
      ]
    }
  ]
}